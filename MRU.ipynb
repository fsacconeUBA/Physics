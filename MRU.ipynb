print ("Encuentro de dos móviles que realizan MRUs (móvil 1 parte antes o al mismo tiempo que el 2)")

x01 = float(input("Ingrese la posición inicial del móvil 1 (en m): "))
v01 = float(input("Ingrese la velocidad inicial del móvil 1 (en m/s): "))
t01 = float(input("Ingrese el tiempo inicial del móvil 1 (en seg): "))

x02 = float(input("Ingrese la posición inicial del móvil 2 (en m): "))
v02 = float(input("Ingrese la velocidad inicial del móvil 2 (en m/s): "))
t02 = float(input("Ingrese el tiempo inicial del móvil 2 (en seg): "))

t1 = np.linspace(t01, 30, 100) ; t2 = np.linspace (t02, 30, 100)
x1 = x01+v01*(t1-t01); x2 = x02+v02*(t2-t02) 

a = np.array ([[1, -v01], [1, -v02]]) 
b = np.array ([x01-v02*t01, x02-v02*t02]) 


fig, ax = plt.subplots()

ax.plot(t1, x1, '-r', label='móvil 1')
ax.plot(t2, x2, '-b', label='móvil 2')
plt.title('Gráfico de MRU')
plt.xlabel('t', color='#1C2833')
plt.ylabel('x', color='#1C2833')
plt.legend(loc='upper left')
plt.grid()
plt.show()

sol = np.linalg.solve(a, b) ; print (sol)
xe = float(sol [[0]]) ; te = float(sol [[1]])

print("la posición de encuentro es",xe, "m al tiempo", te, "s")