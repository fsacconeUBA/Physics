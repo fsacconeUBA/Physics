h = float(input("Ingrese la altura de la torre (en m): "))
t = float(input("Ingrese el tiempo de caída libre (en seg): "))
s = 9.81*t**2/2
print("La altura de la pelota es",h-s,"metros")