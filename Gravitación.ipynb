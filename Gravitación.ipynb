from math import *
from scipy.constants import * #Importamos las librerías necesarias

T = float(input("Ingrese el período del satélite (en hs): ")) #Ingreso de período

M = 5.97*10**(24) #Masa de la Tierra en kg
R = 6.371*10**6 #Radio terrestre en km
h = (G*M*(3600*T)**2/(4*pi**2))**(1/3)-R #cálculo de la altura desde suelo terrestre

print ("La altura desde la tierra será: ", "{0:.0f}".format(h/1000), 'km')