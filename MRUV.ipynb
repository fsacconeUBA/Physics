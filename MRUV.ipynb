import matplotlib.pyplot as plt
import numpy as np
from scipy.optimize import fsolve

print ("Encuentro de dos móviles que realizan MRUVs (móvil 1 parte antes o al mismo tiempo que el 2)")

x01 = float(input("Ingrese la posición inicial del móvil 1 (en m): "))
v01 = float(input("Ingrese la velocidad inicial del móvil 1 (en m/s): "))
a01 = float(input("Ingrese la aceleración constante del móvil 1 (en m/s^2): "))
t01 = float(input("Ingrese el tiempo inicial del móvil 1 (en seg): "))

x02 = float(input("Ingrese la posición inicial del móvil 2 (en m): "))
v02 = float(input("Ingrese la velocidad inicial del móvil 2 (en m/s): "))
a02 = float(input("Ingrese la aceleración constante del móvil 1 (en m/s^2): "))
t02 = float(input("Ingrese el tiempo inicial del móvil 2 (en seg): "))

t1 = np.linspace(t01, 30, 100) ; t2 = np.linspace (t02, 30, 100)
x1 = x01+v01*(t1-t01)+a01*(t1-t01)**2; x2 = x02+v02*(t2-t02)+a02*(t2-t02)**2 
v1 = v01+a01*(t1-t01); v2 = v02+a02*(t2-t02)

fig, ax = plt.subplots()

ax.plot(t1, v1, '-r', label='móvil 1')
ax.plot(t2, v2, '-b', label='móvil 2')
plt.title('Gráfico de velocidades (MRUV)')
plt.xlabel('t (s)', color='#1C2833')
plt.ylabel('v (m/s)', color='#1C2833')
plt.legend(loc='upper left')
plt.grid()
plt.show()

fig, ax = plt.subplots()

ax.plot(t1, x1, '-r', label='móvil 1')
ax.plot(t2, x2, '-b', label='móvil 2')
plt.title('Gráfico de posiciones (MRUV)')
plt.xlabel('t (s)', color='#1C2833')
plt.ylabel('x (m)', color='#1C2833')
plt.legend(loc='upper left')
plt.grid()
plt.show()

def f(t):
    return (x01+v01*(t-t01)+a01*(t-t01)**2)-(x02+v02*(t-t02)+a02*(t-t02)**2)
    
def g(t):
    return (x01+v01*(t-t01)+a01*(t-t01)**2)

te = int(fsolve(f, t02+2*abs(t02-t01))); xe = round(float(g(te)), 1)

print("la posición de encuentro es",xe, "m al tiempo",te, "s")